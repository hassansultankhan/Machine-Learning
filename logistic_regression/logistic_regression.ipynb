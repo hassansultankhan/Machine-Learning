{
 "cells": [
  {
   "cell_type": "code",
   "execution_count": 1,
   "id": "6969f014",
   "metadata": {},
   "outputs": [
    {
     "name": "stdout",
     "output_type": "stream",
     "text": [
      "Sample Dataset:\n",
      "   Age  Salary  Family_Size  Vehicle_Type  Purchased\n",
      "0   25   40000            1             0          0\n",
      "1   32   75000            2             1          0\n",
      "2   47  125000            4             1          1\n",
      "3   51  110000            3             2          1\n",
      "4   23   35000            1             0          0\n",
      "5   45   95000            3             1          1\n",
      "6   55  140000            2             2          1\n",
      "7   38   80000            4             1          1\n",
      "8   28   45000            1             0          0\n",
      "9   40   85000            3             2          1\n"
     ]
    }
   ],
   "source": [
    "import pandas as pd\n",
    "import numpy as np\n",
    "from sklearn.model_selection import train_test_split\n",
    "from sklearn.linear_model import LogisticRegression\n",
    "from sklearn.metrics import accuracy_score, confusion_matrix, classification_report\n",
    "from sklearn.preprocessing import StandardScaler\n",
    "\n",
    "# Create sample dataset\n",
    "data = {\n",
    "    'Age': [25, 32, 47, 51, 23, 45, 55, 38, 28, 40],\n",
    "    'Salary': [40000, 75000, 125000, 110000, 35000, 95000, 140000, 80000, 45000, 85000],\n",
    "    'Family_Size': [1, 2, 4, 3, 1, 3, 2, 4, 1, 3],\n",
    "    'Vehicle_Type': [0, 1, 1, 2, 0, 1, 2, 1, 0, 2],\n",
    "    'Purchased': [0, 0, 1, 1, 0, 1, 1, 1, 0, 1]\n",
    "}\n",
    "\n",
    "df = pd.DataFrame(data)\n",
    "print(\"Sample Dataset:\")\n",
    "print(df)"
   ]
  },
  {
   "cell_type": "code",
   "execution_count": 4,
   "id": "02046a37",
   "metadata": {},
   "outputs": [
    {
     "name": "stdout",
     "output_type": "stream",
     "text": [
      "\n",
      "Model Evaluation:\n",
      "Accuracy: 0.67\n",
      "\n",
      "Confusion Matrix:\n",
      "[[1 1]\n",
      " [0 1]]\n",
      "\n",
      "Classification Report:\n",
      "              precision    recall  f1-score   support\n",
      "\n",
      "           0       1.00      0.50      0.67         2\n",
      "           1       0.50      1.00      0.67         1\n",
      "\n",
      "    accuracy                           0.67         3\n",
      "   macro avg       0.75      0.75      0.67         3\n",
      "weighted avg       0.83      0.67      0.67         3\n",
      "\n",
      "\n",
      "Model Coefficients:\n",
      "Age: 0.5469\n",
      "Salary: 0.5252\n",
      "Family_Size: 0.6588\n",
      "Vehicle_Type: 0.5889\n",
      "\n",
      "New Prediction: Will purchase\n",
      "Probability: 55.78% chance of purchasing\n"
     ]
    }
   ],
   "source": [
    "# Step 1: Prepare the data\n",
    "X = df.drop('Purchased', axis=1)  # Features\n",
    "y = df['Purchased']               # Target variable\n",
    "\n",
    "# Step 2: Split data into training and test sets\n",
    "X_train, X_test, y_train, y_test = train_test_split(X, y, test_size=0.3, random_state=42)\n",
    "\n",
    "# Step 3: Feature scaling (important for logistic regression)\n",
    "scaler = StandardScaler()\n",
    "X_train_scaled = scaler.fit_transform(X_train)\n",
    "X_test_scaled = scaler.transform(X_test)\n",
    "\n",
    "# Step 4: Create and train the logistic regression model\n",
    "logreg = LogisticRegression(random_state=42)\n",
    "logreg.fit(X_train_scaled, y_train)\n",
    "\n",
    "# Step 5: Make predictions\n",
    "y_pred = logreg.predict(X_test_scaled)\n",
    "\n",
    "# Step 6: Evaluate the model\n",
    "print(\"\\nModel Evaluation:\")\n",
    "print(f\"Accuracy: {accuracy_score(y_test, y_pred):.2f}\")\n",
    "print(\"\\nConfusion Matrix:\")\n",
    "print(confusion_matrix(y_test, y_pred))\n",
    "print(\"\\nClassification Report:\")\n",
    "print(classification_report(y_test, y_pred))\n",
    "\n",
    "# Step 7: Interpret the model\n",
    "print(\"\\nModel Coefficients:\")\n",
    "for feature, coef in zip(X.columns, logreg.coef_[0]):\n",
    "    print(f\"{feature}: {coef:.4f}\")\n",
    "\n",
    "# Step 8: Make a new prediction\n",
    "new_data = pd.DataFrame({\n",
    "    'Age': [30],\n",
    "    'Salary': [60000],\n",
    "    'Family_Size': [2],\n",
    "    'Vehicle_Type': [1]\n",
    "})\n",
    "\n",
    "new_data_scaled = scaler.transform(new_data)\n",
    "prediction = logreg.predict(new_data_scaled)\n",
    "prediction_prob = logreg.predict_proba(new_data_scaled)\n",
    "\n",
    "print(f\"\\nNew Prediction: {'Will purchase' if prediction[0] == 1 else 'Will not purchase'}\")\n",
    "print(f\"Probability: {prediction_prob[0][1]:.2%} chance of purchasing\")"
   ]
  }
 ],
 "metadata": {
  "kernelspec": {
   "display_name": "base",
   "language": "python",
   "name": "python3"
  },
  "language_info": {
   "codemirror_mode": {
    "name": "ipython",
    "version": 3
   },
   "file_extension": ".py",
   "mimetype": "text/x-python",
   "name": "python",
   "nbconvert_exporter": "python",
   "pygments_lexer": "ipython3",
   "version": "3.12.3"
  }
 },
 "nbformat": 4,
 "nbformat_minor": 5
}
