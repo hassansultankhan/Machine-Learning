{
 "cells": [
  {
   "cell_type": "code",
   "execution_count": null,
   "id": "c34dc834",
   "metadata": {},
   "outputs": [],
   "source": [
    "pip install ucimlrepo"
   ]
  },
  {
   "cell_type": "code",
   "execution_count": 9,
   "id": "57a572b9",
   "metadata": {},
   "outputs": [
    {
     "name": "stdout",
     "output_type": "stream",
     "text": [
      "     buying  maint  doors persons lug_boot safety\n",
      "0     vhigh  vhigh      2       2    small    low\n",
      "1     vhigh  vhigh      2       2    small    med\n",
      "2     vhigh  vhigh      2       2    small   high\n",
      "3     vhigh  vhigh      2       2      med    low\n",
      "4     vhigh  vhigh      2       2      med    med\n",
      "...     ...    ...    ...     ...      ...    ...\n",
      "1723    low    low  5more    more      med    med\n",
      "1724    low    low  5more    more      med   high\n",
      "1725    low    low  5more    more      big    low\n",
      "1726    low    low  5more    more      big    med\n",
      "1727    low    low  5more    more      big   high\n",
      "\n",
      "[1728 rows x 6 columns]\n",
      "--------------\n",
      "      class\n",
      "0     unacc\n",
      "1     unacc\n",
      "2     unacc\n",
      "3     unacc\n",
      "4     unacc\n",
      "...     ...\n",
      "1723   good\n",
      "1724  vgood\n",
      "1725  unacc\n",
      "1726   good\n",
      "1727  vgood\n",
      "\n",
      "[1728 rows x 1 columns]\n",
      "--------------\n"
     ]
    }
   ],
   "source": [
    "from ucimlrepo import fetch_ucirepo\n",
    "car_evaluation = fetch_ucirepo(id=19)\n",
    "\n",
    "X = car_evaluation.data.features\n",
    "Y = car_evaluation.data.targets\n",
    "print(X)\n",
    "print (\"--------------\")\n",
    "print(Y)\n",
    "print (\"--------------\")\n"
   ]
  },
  {
   "cell_type": "code",
   "execution_count": 8,
   "id": "15cd3549",
   "metadata": {},
   "outputs": [
    {
     "name": "stdout",
     "output_type": "stream",
     "text": [
      "       name     role  ... units missing_values\n",
      "0    buying  Feature  ...  None             no\n",
      "1     maint  Feature  ...  None             no\n",
      "2     doors  Feature  ...  None             no\n",
      "3   persons  Feature  ...  None             no\n",
      "4  lug_boot  Feature  ...  None             no\n",
      "5    safety  Feature  ...  None             no\n",
      "6     class   Target  ...  None             no\n",
      "\n",
      "[7 rows x 7 columns]\n"
     ]
    }
   ],
   "source": [
    "variables_df = car_evaluation.variables\n",
    "print (variables_df)"
   ]
  },
  {
   "cell_type": "code",
   "execution_count": 10,
   "id": "1c879dd7",
   "metadata": {},
   "outputs": [],
   "source": [
    "import pandas as pd\n",
    "combined_df= pd.concat([X, Y], axis = 1)\n",
    "with pd.ExcelWriter('car_evaluation.xlsx', engine= 'openpyxl') as writer:\n",
    "    combined_df.to_excel(writer, sheet_name=\"Variables Metadata\", index=False)"
   ]
  },
  {
   "cell_type": "code",
   "execution_count": 34,
   "id": "a1d7387e",
   "metadata": {},
   "outputs": [
    {
     "name": "stdout",
     "output_type": "stream",
     "text": [
      "[[ 75   7   1   0]\n",
      " [  0  11   0   0]\n",
      " [  0   0 235   0]\n",
      " [  1   0   0  16]]\n",
      "              precision    recall  f1-score   support\n",
      "\n",
      "           0       0.99      0.90      0.94        83\n",
      "           1       0.61      1.00      0.76        11\n",
      "           2       1.00      1.00      1.00       235\n",
      "           3       1.00      0.94      0.97        17\n",
      "\n",
      "    accuracy                           0.97       346\n",
      "   macro avg       0.90      0.96      0.92       346\n",
      "weighted avg       0.98      0.97      0.98       346\n",
      "\n"
     ]
    }
   ],
   "source": [
    "from sklearn.model_selection import train_test_split #Splits your dataset into training and testing sets.\n",
    "from sklearn.ensemble import RandomForestClassifier #\"forest\" of decision trees and combines their outputs for classification tasks.\n",
    "from sklearn.metrics import classification_report, confusion_matrix #classification_report: Gives precision, recall, f1-score, and accuracy for each class. confusion_matrix: Shows the number of correct/incorrect predictions for each class in a matrix form.\n",
    "from sklearn.preprocessing import StandardScaler #Imports a tool to standardize features by removing the mean and scaling to unit variance.\n",
    "\n",
    "# scalar transformation or confusion matrix doesnt work on strings, will have to first convert it into numerical form\n",
    "\n",
    "df= combined_df.copy()\n",
    "\n",
    "# Label encode all categorical columns\n",
    "\n",
    "#------\n",
    "label_encoders = {}\n",
    "for column in df.columns:\n",
    "    if df[column].dtype == 'object':\n",
    "           le = LabelEncoder()\n",
    "           df[column] = le.fit_transform(df[column])\n",
    "           label_encoders[column] = le # this stores the data in dictionary that can turn the numeric data into strings when needed\n",
    "           \n",
    "\n",
    "#----\n",
    "\n",
    "x = df.drop(columns=[\"class\"])\n",
    "y = df[\"class\"]\n",
    "\n",
    "scalar = StandardScaler()\n",
    "x_scaled = scalar.fit_transform(x)\n",
    "\n",
    "x_train, x_test, y_train, y_test = train_test_split(x_scaled, y, test_size = 0.2, random_state= 42)\n",
    "model  = RandomForestClassifier()\n",
    "model.fit (x_train, y_train)\n",
    "\n",
    "y_pred = model.predict(x_test)\n",
    "print(confusion_matrix(y_test, y_pred))\n",
    "print(classification_report(y_test,y_pred))\n",
    "\n"
   ]
  },
  {
   "cell_type": "code",
   "execution_count": 37,
   "id": "aeb4e34f",
   "metadata": {},
   "outputs": [
    {
     "name": "stdout",
     "output_type": "stream",
     "text": [
      "Predicted class: unacc\n"
     ]
    }
   ],
   "source": [
    "import pandas as pd\n",
    "\n",
    "new_data = pd.DataFrame([{\n",
    "    'buying': 'vhigh',\n",
    "    'maint': 'vhigh',\n",
    "    'doors': '2',\n",
    "    'persons': '2',\n",
    "    'lug_boot': 'small',\n",
    "    'safety': 'low'\n",
    "}])\n",
    "\n",
    "# Apply label encoding using the same encoders\n",
    "for column in new_data.columns:\n",
    "    if column in label_encoders:\n",
    "        le = label_encoders[column]\n",
    "        if new_data[column].iloc[0] not in le.classes_:\n",
    "            raise ValueError(f\"'{new_data[column].iloc[0]}' is a new label not seen during training in column '{column}'\")\n",
    "        new_data[column] = le.transform(new_data[column])\n",
    "\n",
    "\n",
    "# 3. Scale the input features using the same scaler\n",
    "new_data_scaled = scalar.transform(new_data)\n",
    "\n",
    "# 4. Predict the class\n",
    "predicted_class_index = model.predict(new_data_scaled)[0]\n",
    "\n",
    "# 5. (Optional) Convert label back to original string if needed\n",
    "original_label = label_encoders['class'].inverse_transform([predicted_class_index])[0]\n",
    "print(\"Predicted class:\", original_label)\n",
    "\n"
   ]
  }
 ],
 "metadata": {
  "kernelspec": {
   "display_name": "base",
   "language": "python",
   "name": "python3"
  },
  "language_info": {
   "codemirror_mode": {
    "name": "ipython",
    "version": 3
   },
   "file_extension": ".py",
   "mimetype": "text/x-python",
   "name": "python",
   "nbconvert_exporter": "python",
   "pygments_lexer": "ipython3",
   "version": "3.12.3"
  }
 },
 "nbformat": 4,
 "nbformat_minor": 5
}
